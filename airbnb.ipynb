{
 "cells": [
  {
   "cell_type": "markdown",
   "metadata": {},
   "source": [
    "# Airbnb Data Analysis\n",
    "Duke Impacting Investing Group <br>\n",
    "Raymond Chen <br>\n",
    "June 2020\n"
   ]
  },
  {
   "cell_type": "markdown",
   "metadata": {},
   "source": [
    "## Environment"
   ]
  },
  {
   "cell_type": "code",
   "execution_count": 1,
   "metadata": {},
   "outputs": [],
   "source": [
    "import numpy as np\n",
    "import pandas as pd\n",
    "import matplotlib.pyplot as plt\n",
    "import sklearn.linear_model as lm\n",
    "import sklearn.model_selection as ms\n",
    "import sklearn.metrics as metrics\n",
    "import statsmodels.api as sm\n",
    "import datetime as dt"
   ]
  },
  {
   "cell_type": "markdown",
   "metadata": {},
   "source": [
    "## Dataset"
   ]
  },
  {
   "cell_type": "markdown",
   "metadata": {},
   "source": [
    "The dataset we're using has been provided by Duke Impact Investing Group as a part of the Data Analyst Challenge. Unfortunately, there are few details describing the data, so we'll have to proceed with assumptions. Below, we'll get an idea of what variables are involved in this dataset."
   ]
  },
  {
   "cell_type": "code",
   "execution_count": 2,
   "metadata": {},
   "outputs": [
    {
     "data": {
      "text/plain": [
       "id                          int64\n",
       "log_price                 float64\n",
       "property_type              object\n",
       "room_type                  object\n",
       "amenities                  object\n",
       "accommodates                int64\n",
       "bathrooms                 float64\n",
       "bed_type                   object\n",
       "cancellation_policy        object\n",
       "cleaning_fee                 bool\n",
       "city                       object\n",
       "description                object\n",
       "first_review               object\n",
       "host_has_profile_pic       object\n",
       "host_identity_verified     object\n",
       "host_response_rate         object\n",
       "host_since                 object\n",
       "instant_bookable           object\n",
       "last_review                object\n",
       "latitude                  float64\n",
       "longitude                 float64\n",
       "name                       object\n",
       "neighbourhood              object\n",
       "number_of_reviews           int64\n",
       "review_scores_rating      float64\n",
       "thumbnail_url              object\n",
       "zipcode                    object\n",
       "bedrooms                  float64\n",
       "beds                      float64\n",
       "dtype: object"
      ]
     },
     "execution_count": 2,
     "metadata": {},
     "output_type": "execute_result"
    }
   ],
   "source": [
    "airbnb = pd.read_csv(\"Airbnb.csv\");\n",
    "airbnb.dtypes"
   ]
  },
  {
   "cell_type": "code",
   "execution_count": 3,
   "metadata": {},
   "outputs": [
    {
     "name": "stdout",
     "output_type": "stream",
     "text": [
      "(74111, 29)\n"
     ]
    },
    {
     "data": {
      "text/html": [
       "<div>\n",
       "<style scoped>\n",
       "    .dataframe tbody tr th:only-of-type {\n",
       "        vertical-align: middle;\n",
       "    }\n",
       "\n",
       "    .dataframe tbody tr th {\n",
       "        vertical-align: top;\n",
       "    }\n",
       "\n",
       "    .dataframe thead th {\n",
       "        text-align: right;\n",
       "    }\n",
       "</style>\n",
       "<table border=\"1\" class=\"dataframe\">\n",
       "  <thead>\n",
       "    <tr style=\"text-align: right;\">\n",
       "      <th></th>\n",
       "      <th>id</th>\n",
       "      <th>log_price</th>\n",
       "      <th>property_type</th>\n",
       "      <th>room_type</th>\n",
       "      <th>amenities</th>\n",
       "      <th>accommodates</th>\n",
       "      <th>bathrooms</th>\n",
       "      <th>bed_type</th>\n",
       "      <th>cancellation_policy</th>\n",
       "      <th>cleaning_fee</th>\n",
       "      <th>city</th>\n",
       "      <th>description</th>\n",
       "      <th>first_review</th>\n",
       "      <th>host_has_profile_pic</th>\n",
       "      <th>host_identity_verified</th>\n",
       "      <th>host_response_rate</th>\n",
       "      <th>host_since</th>\n",
       "      <th>instant_bookable</th>\n",
       "      <th>last_review</th>\n",
       "      <th>latitude</th>\n",
       "      <th>longitude</th>\n",
       "      <th>name</th>\n",
       "      <th>neighbourhood</th>\n",
       "      <th>number_of_reviews</th>\n",
       "      <th>review_scores_rating</th>\n",
       "      <th>thumbnail_url</th>\n",
       "      <th>zipcode</th>\n",
       "      <th>bedrooms</th>\n",
       "      <th>beds</th>\n",
       "    </tr>\n",
       "  </thead>\n",
       "  <tbody>\n",
       "    <tr>\n",
       "      <th>0</th>\n",
       "      <td>6901257</td>\n",
       "      <td>5.010635</td>\n",
       "      <td>Apartment</td>\n",
       "      <td>Entire home/apt</td>\n",
       "      <td>{\"Wireless Internet\",\"Air conditioning\",Kitche...</td>\n",
       "      <td>3</td>\n",
       "      <td>1.0</td>\n",
       "      <td>Real Bed</td>\n",
       "      <td>strict</td>\n",
       "      <td>True</td>\n",
       "      <td>NYC</td>\n",
       "      <td>Beautiful, sunlit brownstone 1-bedroom in the ...</td>\n",
       "      <td>2016-06-18</td>\n",
       "      <td>t</td>\n",
       "      <td>t</td>\n",
       "      <td>NaN</td>\n",
       "      <td>2012-03-26</td>\n",
       "      <td>f</td>\n",
       "      <td>2016-07-18</td>\n",
       "      <td>40.696524</td>\n",
       "      <td>-73.991617</td>\n",
       "      <td>Beautiful brownstone 1-bedroom</td>\n",
       "      <td>Brooklyn Heights</td>\n",
       "      <td>2</td>\n",
       "      <td>100.0</td>\n",
       "      <td>https://a0.muscache.com/im/pictures/6d7cbbf7-c...</td>\n",
       "      <td>11201</td>\n",
       "      <td>1.0</td>\n",
       "      <td>1.0</td>\n",
       "    </tr>\n",
       "    <tr>\n",
       "      <th>1</th>\n",
       "      <td>6304928</td>\n",
       "      <td>5.129899</td>\n",
       "      <td>Apartment</td>\n",
       "      <td>Entire home/apt</td>\n",
       "      <td>{\"Wireless Internet\",\"Air conditioning\",Kitche...</td>\n",
       "      <td>7</td>\n",
       "      <td>1.0</td>\n",
       "      <td>Real Bed</td>\n",
       "      <td>strict</td>\n",
       "      <td>True</td>\n",
       "      <td>NYC</td>\n",
       "      <td>Enjoy travelling during your stay in Manhattan...</td>\n",
       "      <td>2017-08-05</td>\n",
       "      <td>t</td>\n",
       "      <td>f</td>\n",
       "      <td>100%</td>\n",
       "      <td>2017-06-19</td>\n",
       "      <td>t</td>\n",
       "      <td>2017-09-23</td>\n",
       "      <td>40.766115</td>\n",
       "      <td>-73.989040</td>\n",
       "      <td>Superb 3BR Apt Located Near Times Square</td>\n",
       "      <td>Hell's Kitchen</td>\n",
       "      <td>6</td>\n",
       "      <td>93.0</td>\n",
       "      <td>https://a0.muscache.com/im/pictures/348a55fe-4...</td>\n",
       "      <td>10019</td>\n",
       "      <td>3.0</td>\n",
       "      <td>3.0</td>\n",
       "    </tr>\n",
       "    <tr>\n",
       "      <th>2</th>\n",
       "      <td>7919400</td>\n",
       "      <td>4.976734</td>\n",
       "      <td>Apartment</td>\n",
       "      <td>Entire home/apt</td>\n",
       "      <td>{TV,\"Cable TV\",\"Wireless Internet\",\"Air condit...</td>\n",
       "      <td>5</td>\n",
       "      <td>1.0</td>\n",
       "      <td>Real Bed</td>\n",
       "      <td>moderate</td>\n",
       "      <td>True</td>\n",
       "      <td>NYC</td>\n",
       "      <td>The Oasis comes complete with a full backyard ...</td>\n",
       "      <td>2017-04-30</td>\n",
       "      <td>t</td>\n",
       "      <td>t</td>\n",
       "      <td>100%</td>\n",
       "      <td>2016-10-25</td>\n",
       "      <td>t</td>\n",
       "      <td>2017-09-14</td>\n",
       "      <td>40.808110</td>\n",
       "      <td>-73.943756</td>\n",
       "      <td>The Garden Oasis</td>\n",
       "      <td>Harlem</td>\n",
       "      <td>10</td>\n",
       "      <td>92.0</td>\n",
       "      <td>https://a0.muscache.com/im/pictures/6fae5362-9...</td>\n",
       "      <td>10027</td>\n",
       "      <td>1.0</td>\n",
       "      <td>3.0</td>\n",
       "    </tr>\n",
       "    <tr>\n",
       "      <th>3</th>\n",
       "      <td>13418779</td>\n",
       "      <td>6.620073</td>\n",
       "      <td>House</td>\n",
       "      <td>Entire home/apt</td>\n",
       "      <td>{TV,\"Cable TV\",Internet,\"Wireless Internet\",Ki...</td>\n",
       "      <td>4</td>\n",
       "      <td>1.0</td>\n",
       "      <td>Real Bed</td>\n",
       "      <td>flexible</td>\n",
       "      <td>True</td>\n",
       "      <td>SF</td>\n",
       "      <td>This light-filled home-away-from-home is super...</td>\n",
       "      <td>NaN</td>\n",
       "      <td>t</td>\n",
       "      <td>t</td>\n",
       "      <td>NaN</td>\n",
       "      <td>2015-04-19</td>\n",
       "      <td>f</td>\n",
       "      <td>NaN</td>\n",
       "      <td>37.772004</td>\n",
       "      <td>-122.431619</td>\n",
       "      <td>Beautiful Flat in the Heart of SF!</td>\n",
       "      <td>Lower Haight</td>\n",
       "      <td>0</td>\n",
       "      <td>NaN</td>\n",
       "      <td>https://a0.muscache.com/im/pictures/72208dad-9...</td>\n",
       "      <td>94117.0</td>\n",
       "      <td>2.0</td>\n",
       "      <td>2.0</td>\n",
       "    </tr>\n",
       "    <tr>\n",
       "      <th>4</th>\n",
       "      <td>3808709</td>\n",
       "      <td>4.744932</td>\n",
       "      <td>Apartment</td>\n",
       "      <td>Entire home/apt</td>\n",
       "      <td>{TV,Internet,\"Wireless Internet\",\"Air conditio...</td>\n",
       "      <td>2</td>\n",
       "      <td>1.0</td>\n",
       "      <td>Real Bed</td>\n",
       "      <td>moderate</td>\n",
       "      <td>True</td>\n",
       "      <td>DC</td>\n",
       "      <td>Cool, cozy, and comfortable studio located in ...</td>\n",
       "      <td>2015-05-12</td>\n",
       "      <td>t</td>\n",
       "      <td>t</td>\n",
       "      <td>100%</td>\n",
       "      <td>2015-03-01</td>\n",
       "      <td>t</td>\n",
       "      <td>2017-01-22</td>\n",
       "      <td>38.925627</td>\n",
       "      <td>-77.034596</td>\n",
       "      <td>Great studio in midtown DC</td>\n",
       "      <td>Columbia Heights</td>\n",
       "      <td>4</td>\n",
       "      <td>40.0</td>\n",
       "      <td>NaN</td>\n",
       "      <td>20009</td>\n",
       "      <td>0.0</td>\n",
       "      <td>1.0</td>\n",
       "    </tr>\n",
       "  </tbody>\n",
       "</table>\n",
       "</div>"
      ],
      "text/plain": [
       "         id  log_price property_type        room_type  \\\n",
       "0   6901257   5.010635     Apartment  Entire home/apt   \n",
       "1   6304928   5.129899     Apartment  Entire home/apt   \n",
       "2   7919400   4.976734     Apartment  Entire home/apt   \n",
       "3  13418779   6.620073         House  Entire home/apt   \n",
       "4   3808709   4.744932     Apartment  Entire home/apt   \n",
       "\n",
       "                                           amenities  accommodates  bathrooms  \\\n",
       "0  {\"Wireless Internet\",\"Air conditioning\",Kitche...             3        1.0   \n",
       "1  {\"Wireless Internet\",\"Air conditioning\",Kitche...             7        1.0   \n",
       "2  {TV,\"Cable TV\",\"Wireless Internet\",\"Air condit...             5        1.0   \n",
       "3  {TV,\"Cable TV\",Internet,\"Wireless Internet\",Ki...             4        1.0   \n",
       "4  {TV,Internet,\"Wireless Internet\",\"Air conditio...             2        1.0   \n",
       "\n",
       "   bed_type cancellation_policy  cleaning_fee city  \\\n",
       "0  Real Bed              strict          True  NYC   \n",
       "1  Real Bed              strict          True  NYC   \n",
       "2  Real Bed            moderate          True  NYC   \n",
       "3  Real Bed            flexible          True   SF   \n",
       "4  Real Bed            moderate          True   DC   \n",
       "\n",
       "                                         description first_review  \\\n",
       "0  Beautiful, sunlit brownstone 1-bedroom in the ...   2016-06-18   \n",
       "1  Enjoy travelling during your stay in Manhattan...   2017-08-05   \n",
       "2  The Oasis comes complete with a full backyard ...   2017-04-30   \n",
       "3  This light-filled home-away-from-home is super...          NaN   \n",
       "4  Cool, cozy, and comfortable studio located in ...   2015-05-12   \n",
       "\n",
       "  host_has_profile_pic host_identity_verified host_response_rate  host_since  \\\n",
       "0                    t                      t                NaN  2012-03-26   \n",
       "1                    t                      f               100%  2017-06-19   \n",
       "2                    t                      t               100%  2016-10-25   \n",
       "3                    t                      t                NaN  2015-04-19   \n",
       "4                    t                      t               100%  2015-03-01   \n",
       "\n",
       "  instant_bookable last_review   latitude   longitude  \\\n",
       "0                f  2016-07-18  40.696524  -73.991617   \n",
       "1                t  2017-09-23  40.766115  -73.989040   \n",
       "2                t  2017-09-14  40.808110  -73.943756   \n",
       "3                f         NaN  37.772004 -122.431619   \n",
       "4                t  2017-01-22  38.925627  -77.034596   \n",
       "\n",
       "                                       name     neighbourhood  \\\n",
       "0            Beautiful brownstone 1-bedroom  Brooklyn Heights   \n",
       "1  Superb 3BR Apt Located Near Times Square    Hell's Kitchen   \n",
       "2                          The Garden Oasis            Harlem   \n",
       "3        Beautiful Flat in the Heart of SF!      Lower Haight   \n",
       "4                Great studio in midtown DC  Columbia Heights   \n",
       "\n",
       "   number_of_reviews  review_scores_rating  \\\n",
       "0                  2                 100.0   \n",
       "1                  6                  93.0   \n",
       "2                 10                  92.0   \n",
       "3                  0                   NaN   \n",
       "4                  4                  40.0   \n",
       "\n",
       "                                       thumbnail_url  zipcode  bedrooms  beds  \n",
       "0  https://a0.muscache.com/im/pictures/6d7cbbf7-c...    11201       1.0   1.0  \n",
       "1  https://a0.muscache.com/im/pictures/348a55fe-4...    10019       3.0   3.0  \n",
       "2  https://a0.muscache.com/im/pictures/6fae5362-9...    10027       1.0   3.0  \n",
       "3  https://a0.muscache.com/im/pictures/72208dad-9...  94117.0       2.0   2.0  \n",
       "4                                                NaN    20009       0.0   1.0  "
      ]
     },
     "execution_count": 3,
     "metadata": {},
     "output_type": "execute_result"
    }
   ],
   "source": [
    "pd.set_option('display.max_columns', None)\n",
    "print(airbnb.shape)\n",
    "airbnb.head(5)"
   ]
  },
  {
   "cell_type": "markdown",
   "metadata": {},
   "source": [
    "## Research Question"
   ]
  },
  {
   "cell_type": "markdown",
   "metadata": {},
   "source": [
    "I've never booked a listing on Airbnb myself, so I cannot say I fully understand how the booking or listing system works. However, it appears that listing prices are decided by the hosts, with some additional service fees being added by Airbnb. So given that listing prices appear to be \"arbitrarily\" set by hsots (excluding the additional service fees), the following question arises: can we predict the price of an Airbnb listing, and if so what variables can help in this process?"
   ]
  },
  {
   "cell_type": "markdown",
   "metadata": {},
   "source": [
    "For this question, we have the response variable `log_price`, which is supposedly the price (we'll assume per night) log-transformed. We'll keep this for our analysis unless we need to transform it later.\n",
    "\n",
    "To answer this question, we'll hypothesize several important variables that we believe are critical in predicting the price of an Airbnb listing. The variables are as follows:\n",
    "- `property_type`\n",
    "- `room_type`\n",
    "- `accommodates`\n",
    "- `bathrooms`\n",
    "- `bed_type`\n",
    "- `cancellation_policy`\n",
    "- `cleaning_fee`\n",
    "- `city`\n",
    "- `host_has_profile_pic`\n",
    "- `host_identitiy_verified`\n",
    "- `instant_bookable`\n",
    "- `number_of_reviews`\n",
    "- `review_scores_rating`\n",
    "- `bedrooms`\n",
    "- `beds`\n",
    "\n",
    "We also believe that the following variables may have an impact too, but we will have to transform those variables later since they are neither quantitative nor categorical variables we can simply plug into any analysis.\n",
    "- `host_since`\n",
    "- `amenities`\n",
    "- `description`\n",
    "- `name`\n",
    "\n",
    "We believe the rest of the variables are either out of scope or unimportant to this analysis for now."
   ]
  },
  {
   "cell_type": "markdown",
   "metadata": {},
   "source": [
    "## Exploratory Data Analysis"
   ]
  },
  {
   "cell_type": "markdown",
   "metadata": {},
   "source": [
    "Let's first begin with some exploratory data analysis to get a better understanding of the Airbnb dataset and the variables we'll be working with. We'll also remove superfluous data, especially the `host_response_rate` variable which contains many undefined or NaN values which may result in us removing entire rows if we do not remove this variable earlier.\n",
    "\n",
    "* Note: we could do a multivariable analysis, but we believe for the purpose of this challenge it would simply take too much time and may not convey too much information."
   ]
  },
  {
   "cell_type": "code",
   "execution_count": 4,
   "metadata": {},
   "outputs": [],
   "source": [
    "airbnb = airbnb.drop('host_response_rate', axis=1)"
   ]
  },
  {
   "cell_type": "markdown",
   "metadata": {},
   "source": [
    "We'll remove any missing or null data now."
   ]
  },
  {
   "cell_type": "code",
   "execution_count": 5,
   "metadata": {},
   "outputs": [],
   "source": [
    "airbnb = airbnb.dropna() \n",
    "# print(airbnb.isnull().sum());"
   ]
  },
  {
   "cell_type": "markdown",
   "metadata": {},
   "source": [
    "We can see that we're left with 46442 rows of data now."
   ]
  },
  {
   "cell_type": "code",
   "execution_count": 6,
   "metadata": {},
   "outputs": [
    {
     "data": {
      "text/plain": [
       "id                        46442\n",
       "log_price                 46442\n",
       "property_type             46442\n",
       "room_type                 46442\n",
       "amenities                 46442\n",
       "accommodates              46442\n",
       "bathrooms                 46442\n",
       "bed_type                  46442\n",
       "cancellation_policy       46442\n",
       "cleaning_fee              46442\n",
       "city                      46442\n",
       "description               46442\n",
       "first_review              46442\n",
       "host_has_profile_pic      46442\n",
       "host_identity_verified    46442\n",
       "host_since                46442\n",
       "instant_bookable          46442\n",
       "last_review               46442\n",
       "latitude                  46442\n",
       "longitude                 46442\n",
       "name                      46442\n",
       "neighbourhood             46442\n",
       "number_of_reviews         46442\n",
       "review_scores_rating      46442\n",
       "thumbnail_url             46442\n",
       "zipcode                   46442\n",
       "bedrooms                  46442\n",
       "beds                      46442\n",
       "dtype: int64"
      ]
     },
     "execution_count": 6,
     "metadata": {},
     "output_type": "execute_result"
    }
   ],
   "source": [
    "airbnb.count()"
   ]
  },
  {
   "cell_type": "markdown",
   "metadata": {},
   "source": [
    "We'll first look at the `log_price` variable to get an idea of our response variable. It appears that price log-transformed forms a rough normal distribution."
   ]
  },
  {
   "cell_type": "code",
   "execution_count": 7,
   "metadata": {},
   "outputs": [
    {
     "data": {
      "image/png": "[encoded data removed]",
      "text/plain": [
       "<Figure size 432x288 with 1 Axes>"
      ]
     },
     "metadata": {
      "needs_background": "light"
     },
     "output_type": "display_data"
    }
   ],
   "source": [
    "plt.hist(airbnb.log_price, bins=50);\n",
    "plt.title(\"Histogram of log prices\");\n",
    "plt.xlabel(\"log prices\");\n",
    "plt.ylabel(\"Counts\");"
   ]
  },
  {
   "cell_type": "markdown",
   "metadata": {},
   "source": [
    "We can see why the dataset authors log-transformed `price` then, since we can see `price` is highly skewed."
   ]
  },
  {
   "cell_type": "code",
   "execution_count": 8,
   "metadata": {},
   "outputs": [
    {
     "data": {
      "image/png": "[encoded data removed]",
      "text/plain": [
       "<Figure size 432x288 with 1 Axes>"
      ]
     },
     "metadata": {
      "needs_background": "light"
     },
     "output_type": "display_data"
    }
   ],
   "source": [
    "airbnb['price'] = np.exp(airbnb.log_price);\n",
    "plt.hist(airbnb.price, bins=np.arange(min(airbnb.price), max(airbnb.price) + 25, 25));\n",
    "plt.title(\"Histogram of prices\");\n",
    "plt.xlabel(\"Prices\");\n",
    "plt.ylabel(\"Count\");"
   ]
  },
  {
   "cell_type": "markdown",
   "metadata": {},
   "source": [
    "Now, we'll quickly run through the rest of our predictor variables. Here, we can see that the vast majority of properties are apartments with houses coming up second, along with condominimums, townhouses, and lofts forming a small minority."
   ]
  },
  {
   "cell_type": "code",
   "execution_count": 9,
   "metadata": {},
   "outputs": [
    {
     "data": {
      "image/png": "[encoded data removed]",
      "text/plain": [
       "<Figure size 432x288 with 1 Axes>"
      ]
     },
     "metadata": {
      "needs_background": "light"
     },
     "output_type": "display_data"
    }
   ],
   "source": [
    "airbnb.property_type.value_counts().plot(kind='bar');\n",
    "plt.title(\"Bar graph of property type\");\n",
    "plt.xlabel(\"Property type\");\n",
    "plt.ylabel(\"Count\");"
   ]
  },
  {
   "cell_type": "markdown",
   "metadata": {},
   "source": [
    "The vast majority of properties are also \"airbnbing\" the entire property or private rooms compared to share rooms."
   ]
  },
  {
   "cell_type": "code",
   "execution_count": 10,
   "metadata": {},
   "outputs": [
    {
     "data": {
      "image/png": "[encoded data removed]",
      "text/plain": [
       "<Figure size 432x288 with 1 Axes>"
      ]
     },
     "metadata": {
      "needs_background": "light"
     },
     "output_type": "display_data"
    }
   ],
   "source": [
    "airbnb.room_type.value_counts().plot(kind='bar');\n",
    "plt.title(\"Bar graph of room type\");\n",
    "plt.xlabel(\"Room type\");\n",
    "plt.ylabel(\"Count\");"
   ]
  },
  {
   "cell_type": "markdown",
   "metadata": {},
   "source": [
    "The number of people accommodated by airbnbs in the dataset are skewed right."
   ]
  },
  {
   "cell_type": "code",
   "execution_count": 11,
   "metadata": {},
   "outputs": [
    {
     "data": {
      "image/png": "[encoded data removed]",
      "text/plain": [
       "<Figure size 432x288 with 1 Axes>"
      ]
     },
     "metadata": {
      "needs_background": "light"
     },
     "output_type": "display_data"
    }
   ],
   "source": [
    "plt.hist(airbnb.accommodates);\n",
    "plt.title(\"Histogram of number of people accommodated\");\n",
    "plt.xlabel(\"# accommodated\");\n",
    "plt.ylabel(\"Count\");"
   ]
  },
  {
   "cell_type": "markdown",
   "metadata": {},
   "source": [
    "A little less than half of airbnbs have a strict cancellation policy with more than half having moderate or flexible cancellation policies."
   ]
  },
  {
   "cell_type": "code",
   "execution_count": 12,
   "metadata": {},
   "outputs": [
    {
     "data": {
      "image/png": "[encoded data removed]",
      "text/plain": [
       "<Figure size 432x288 with 1 Axes>"
      ]
     },
     "metadata": {
      "needs_background": "light"
     },
     "output_type": "display_data"
    }
   ],
   "source": [
    "airbnb.cancellation_policy.value_counts().plot(kind='bar');\n",
    "plt.title(\"Bar chart of cancellation policy\");\n",
    "plt.xlabel(\"Policy\");\n",
    "plt.ylabel(\"Count\");"
   ]
  },
  {
   "cell_type": "markdown",
   "metadata": {},
   "source": [
    "More airbnbs have cleaning fees than don't."
   ]
  },
  {
   "cell_type": "code",
   "execution_count": 13,
   "metadata": {},
   "outputs": [
    {
     "data": {
      "image/png": "[encoded data removed]",
      "text/plain": [
       "<Figure size 432x288 with 1 Axes>"
      ]
     },
     "metadata": {
      "needs_background": "light"
     },
     "output_type": "display_data"
    }
   ],
   "source": [
    "airbnb.cleaning_fee.value_counts().plot(kind='bar');\n",
    "plt.title(\"Bar chart of cleaning fee\");\n",
    "plt.xlabel(\"Cleaning fee?\");\n",
    "plt.ylabel(\"Count\");"
   ]
  },
  {
   "cell_type": "markdown",
   "metadata": {},
   "source": [
    "We finally get a picture of the geography of the airbnbs in our dataset. As you can see in the graph below, the airbnbs come from the following cities, with most coming from NYC and many coming from LA and SF: \n",
    "- NYC\n",
    "- LA\n",
    "- SF\n",
    "- DC\n",
    "- Boston\n",
    "- Chicago"
   ]
  },
  {
   "cell_type": "code",
   "execution_count": 14,
   "metadata": {},
   "outputs": [
    {
     "data": {
      "image/png": "[encoded data removed]",
      "text/plain": [
       "<Figure size 432x288 with 1 Axes>"
      ]
     },
     "metadata": {
      "needs_background": "light"
     },
     "output_type": "display_data"
    }
   ],
   "source": [
    "airbnb.city.value_counts().plot(kind='bar');\n",
    "plt.title(\"Bar chart of cities\");\n",
    "plt.xlabel(\"Cities\");\n",
    "plt.ylabel(\"Count\");"
   ]
  },
  {
   "cell_type": "markdown",
   "metadata": {},
   "source": [
    "Looking at the graph below, we found it strange that all of the airbnb hosts had profile pictures, as we assumed at least some wouldn't to even out the data. After taking another look at the dataset, we found that this column contained strange descriptions in the values too, so we will ultimately not use this variable for our predictions in the future."
   ]
  },
  {
   "cell_type": "code",
   "execution_count": 15,
   "metadata": {},
   "outputs": [
    {
     "data": {
      "image/png": "[encoded data removed]",
      "text/plain": [
       "<Figure size 432x288 with 1 Axes>"
      ]
     },
     "metadata": {
      "needs_background": "light"
     },
     "output_type": "display_data"
    }
   ],
   "source": [
    "airbnb.host_has_profile_pic.value_counts().plot(kind='bar');\n",
    "plt.title(\"Bar chart of hosts with profile pictures\");\n",
    "plt.xlabel(\"Host has profile picture?\");\n",
    "plt.ylabel(\"count\");"
   ]
  },
  {
   "cell_type": "markdown",
   "metadata": {},
   "source": [
    "Most airbnb hosts appear to be verified, but a good amount are not."
   ]
  },
  {
   "cell_type": "code",
   "execution_count": 16,
   "metadata": {},
   "outputs": [
    {
     "data": {
      "image/png": "[encoded data removed]",
      "text/plain": [
       "<Figure size 432x288 with 1 Axes>"
      ]
     },
     "metadata": {
      "needs_background": "light"
     },
     "output_type": "display_data"
    }
   ],
   "source": [
    "airbnb.host_identity_verified.value_counts().plot(kind='bar');\\\n",
    "plt.title(\"Bar chart of identity verified\");\n",
    "plt.xlabel(\"host identify verified?\");\n",
    "plt.ylabel(\"count\");"
   ]
  },
  {
   "cell_type": "markdown",
   "metadata": {},
   "source": [
    "Most airbnbs are not instant bookable, but a good amount are."
   ]
  },
  {
   "cell_type": "code",
   "execution_count": 17,
   "metadata": {},
   "outputs": [
    {
     "data": {
      "image/png": "[encoded data removed]",
      "text/plain": [
       "<Figure size 432x288 with 1 Axes>"
      ]
     },
     "metadata": {
      "needs_background": "light"
     },
     "output_type": "display_data"
    }
   ],
   "source": [
    "airbnb.instant_bookable.value_counts().plot(kind='bar');\n",
    "plt.title(\"Bar chart of instant bookable listings\");\n",
    "plt.xlabel(\"instant bookable?\");\n",
    "plt.ylabel(\"count\");"
   ]
  },
  {
   "cell_type": "markdown",
   "metadata": {},
   "source": [
    "The number of reviews is, expectedly, skewed right, as many more airbnbs will have few reviews."
   ]
  },
  {
   "cell_type": "code",
   "execution_count": 18,
   "metadata": {},
   "outputs": [
    {
     "data": {
      "image/png": "[encoded data removed]",
      "text/plain": [
       "<Figure size 432x288 with 1 Axes>"
      ]
     },
     "metadata": {
      "needs_background": "light"
     },
     "output_type": "display_data"
    }
   ],
   "source": [
    "plt.hist(airbnb.number_of_reviews, bins=100);\n",
    "plt.title(\"Histogram of number of reviews\");\n",
    "plt.xlabel(\"# reviews\");\n",
    "plt.ylabel(\"count\");"
   ]
  },
  {
   "cell_type": "markdown",
   "metadata": {},
   "source": [
    "Similarly, the review scores rating of the airbnbs was skewed left, as we would expect airbnbs to generally have high rating scores (due to the low number of people who review typically)"
   ]
  },
  {
   "cell_type": "code",
   "execution_count": 19,
   "metadata": {},
   "outputs": [
    {
     "data": {
      "image/png": "[encoded data removed]",
      "text/plain": [
       "<Figure size 432x288 with 1 Axes>"
      ]
     },
     "metadata": {
      "needs_background": "light"
     },
     "output_type": "display_data"
    }
   ],
   "source": [
    "plt.hist(airbnb.review_scores_rating, bins=100);\n",
    "plt.title(\"Histogram of review ratings\");\n",
    "plt.xlabel(\"rating score\");\n",
    "plt.ylabel(\"count\");"
   ]
  },
  {
   "cell_type": "markdown",
   "metadata": {},
   "source": [
    "This is also expected as most airbnbs will have 1-3 bedrooms."
   ]
  },
  {
   "cell_type": "code",
   "execution_count": 20,
   "metadata": {},
   "outputs": [
    {
     "data": {
      "image/png": "[encoded data removed]",
      "text/plain": [
       "<Figure size 432x288 with 1 Axes>"
      ]
     },
     "metadata": {
      "needs_background": "light"
     },
     "output_type": "display_data"
    }
   ],
   "source": [
    "plt.hist(airbnb.bedrooms);\n",
    "plt.title(\"Histogram of bedrooms\");\n",
    "plt.xlabel(\"# bedrooms\");\n",
    "plt.ylabel(\"count\");"
   ]
  },
  {
   "cell_type": "markdown",
   "metadata": {},
   "source": [
    "Similarly, most airbnbs will have less than 3-4 beds."
   ]
  },
  {
   "cell_type": "code",
   "execution_count": 21,
   "metadata": {},
   "outputs": [
    {
     "data": {
      "image/png": "[encoded data removed]",
      "text/plain": [
       "<Figure size 432x288 with 1 Axes>"
      ]
     },
     "metadata": {
      "needs_background": "light"
     },
     "output_type": "display_data"
    }
   ],
   "source": [
    "plt.hist(airbnb.beds);\n",
    "plt.title(\"Histogram of bed count\");\n",
    "plt.xlabel(\"# beds\");\n",
    "plt.ylabel(\"count\");"
   ]
  },
  {
   "cell_type": "markdown",
   "metadata": {},
   "source": [
    "Now, we'll deal with our other variables of interest that we need to transform. Specifically for `host_since`, since it is a date object, we will change that to be the number of days from January 1, 2020 to the host_since date (taking the difference)."
   ]
  },
  {
   "cell_type": "code",
   "execution_count": 22,
   "metadata": {},
   "outputs": [],
   "source": [
    "# change host_since to number of days of being a host\n",
    "airbnb['host_since'] = (pd.to_datetime(\"2020-01-01\") - pd.to_datetime(airbnb['host_since'])).dt.days"
   ]
  },
  {
   "cell_type": "markdown",
   "metadata": {},
   "source": [
    "For `amenities` and `description`, it's hard to take into account those variables. But the simplest thing we can do is measure their lengths, by counting the number of amenities provided and the length of the description in characters."
   ]
  },
  {
   "cell_type": "code",
   "execution_count": 23,
   "metadata": {},
   "outputs": [],
   "source": [
    "# count amenities and replace\n",
    "airbnb['amenities'] = airbnb['amenities'].astype('str').str.count(\",\") + 1\n",
    "\n",
    "# count number of characters for description and replace\n",
    "airbnb['description'] = airbnb['description'].astype('str').str.len()"
   ]
  },
  {
   "cell_type": "markdown",
   "metadata": {},
   "source": [
    "## Linear Model"
   ]
  },
  {
   "cell_type": "markdown",
   "metadata": {},
   "source": [
    "Here we'll construct a multiple linear regression model to attempt to predict Airbnb listing prices using the variables we hypothesized earlier. To do this, we'll use Scikit-Learn. We'll firs thave to transform boolean and categorical variables to numerical ones, however, before we can fit our model. "
   ]
  },
  {
   "cell_type": "code",
   "execution_count": 24,
   "metadata": {},
   "outputs": [],
   "source": [
    "airbnb[\"property_type\"] = airbnb[\"property_type\"].astype('category').cat.codes;\n",
    "airbnb[\"room_type\"] = airbnb[\"room_type\"].astype('category').cat.codes;\n",
    "airbnb[\"bed_type\"] = airbnb[\"bed_type\"].astype('category').cat.codes;\n",
    "airbnb[\"cancellation_policy\"] = airbnb[\"cancellation_policy\"].astype('category').cat.codes;\n",
    "airbnb[\"city\"] = airbnb[\"city\"].astype('category').cat.codes;\n",
    "airbnb[\"cleaning_fee\"] = airbnb[\"cleaning_fee\"].astype('category').cat.codes;\n",
    "airbnb[\"host_identity_verified\"] = airbnb[\"host_identity_verified\"].astype('category').cat.codes;\n",
    "airbnb[\"instant_bookable\"] = airbnb[\"instant_bookable\"].astype('category').cat.codes;"
   ]
  },
  {
   "cell_type": "markdown",
   "metadata": {},
   "source": [
    "Let's create our training and testing datasets"
   ]
  },
  {
   "cell_type": "code",
   "execution_count": 25,
   "metadata": {},
   "outputs": [],
   "source": [
    "airbnb, test = ms.train_test_split(airbnb, test_size=0.2)"
   ]
  },
  {
   "cell_type": "code",
   "execution_count": 26,
   "metadata": {},
   "outputs": [],
   "source": [
    "x = airbnb[[\"property_type\", \"room_type\", \"accommodates\", \"bathrooms\", \"bed_type\", \"cancellation_policy\", \"city\", \"cleaning_fee\", \"host_identity_verified\", \"host_since\", \"instant_bookable\", \"number_of_reviews\", \"review_scores_rating\", \"bedrooms\", \"beds\", \"amenities\", \"description\"]]\n",
    "y = airbnb[\"log_price\"]\n",
    "\n",
    "x_test = test[[\"property_type\", \"room_type\", \"accommodates\", \"bathrooms\", \"bed_type\", \"cancellation_policy\", \"city\", \"cleaning_fee\", \"host_identity_verified\", \"host_since\", \"instant_bookable\", \"number_of_reviews\", \"review_scores_rating\", \"bedrooms\", \"beds\", \"amenities\", \"description\"]]\n",
    "y_test = test[\"log_price\"]"
   ]
  },
  {
   "cell_type": "code",
   "execution_count": 27,
   "metadata": {},
   "outputs": [
    {
     "data": {
      "text/html": [
       "<table class=\"simpletable\">\n",
       "<caption>OLS Regression Results</caption>\n",
       "<tr>\n",
       "  <th>Dep. Variable:</th>        <td>log_price</td>    <th>  R-squared (uncentered):</th>      <td>   0.990</td> \n",
       "</tr>\n",
       "<tr>\n",
       "  <th>Model:</th>                   <td>OLS</td>       <th>  Adj. R-squared (uncentered):</th> <td>   0.990</td> \n",
       "</tr>\n",
       "<tr>\n",
       "  <th>Method:</th>             <td>Least Squares</td>  <th>  F-statistic:       </th>          <td>2.177e+05</td>\n",
       "</tr>\n",
       "<tr>\n",
       "  <th>Date:</th>             <td>Fri, 19 Jun 2020</td> <th>  Prob (F-statistic):</th>           <td>  0.00</td>  \n",
       "</tr>\n",
       "<tr>\n",
       "  <th>Time:</th>                 <td>20:26:22</td>     <th>  Log-Likelihood:    </th>          <td> -25225.</td> \n",
       "</tr>\n",
       "<tr>\n",
       "  <th>No. Observations:</th>      <td> 37153</td>      <th>  AIC:               </th>          <td>5.048e+04</td>\n",
       "</tr>\n",
       "<tr>\n",
       "  <th>Df Residuals:</th>          <td> 37136</td>      <th>  BIC:               </th>          <td>5.063e+04</td>\n",
       "</tr>\n",
       "<tr>\n",
       "  <th>Df Model:</th>              <td>    17</td>      <th>                     </th>              <td> </td>    \n",
       "</tr>\n",
       "<tr>\n",
       "  <th>Covariance Type:</th>      <td>nonrobust</td>    <th>                     </th>              <td> </td>    \n",
       "</tr>\n",
       "</table>\n",
       "<table class=\"simpletable\">\n",
       "<tr>\n",
       "             <td></td>               <th>coef</th>     <th>std err</th>      <th>t</th>      <th>P>|t|</th>  <th>[0.025</th>    <th>0.975]</th>  \n",
       "</tr>\n",
       "<tr>\n",
       "  <th>property_type</th>          <td>   -0.0034</td> <td>    0.000</td> <td>  -10.208</td> <td> 0.000</td> <td>   -0.004</td> <td>   -0.003</td>\n",
       "</tr>\n",
       "<tr>\n",
       "  <th>room_type</th>              <td>   -0.4699</td> <td>    0.005</td> <td>  -89.125</td> <td> 0.000</td> <td>   -0.480</td> <td>   -0.460</td>\n",
       "</tr>\n",
       "<tr>\n",
       "  <th>accommodates</th>           <td>    0.0982</td> <td>    0.002</td> <td>   39.556</td> <td> 0.000</td> <td>    0.093</td> <td>    0.103</td>\n",
       "</tr>\n",
       "<tr>\n",
       "  <th>bathrooms</th>              <td>    0.1636</td> <td>    0.006</td> <td>   28.459</td> <td> 0.000</td> <td>    0.152</td> <td>    0.175</td>\n",
       "</tr>\n",
       "<tr>\n",
       "  <th>bed_type</th>               <td>    0.2979</td> <td>    0.005</td> <td>   60.750</td> <td> 0.000</td> <td>    0.288</td> <td>    0.308</td>\n",
       "</tr>\n",
       "<tr>\n",
       "  <th>cancellation_policy</th>    <td>    0.0424</td> <td>    0.003</td> <td>   12.766</td> <td> 0.000</td> <td>    0.036</td> <td>    0.049</td>\n",
       "</tr>\n",
       "<tr>\n",
       "  <th>city</th>                   <td>    0.0935</td> <td>    0.002</td> <td>   46.723</td> <td> 0.000</td> <td>    0.090</td> <td>    0.097</td>\n",
       "</tr>\n",
       "<tr>\n",
       "  <th>cleaning_fee</th>           <td>    0.0244</td> <td>    0.007</td> <td>    3.740</td> <td> 0.000</td> <td>    0.012</td> <td>    0.037</td>\n",
       "</tr>\n",
       "<tr>\n",
       "  <th>host_identity_verified</th> <td>   -0.0217</td> <td>    0.006</td> <td>   -3.665</td> <td> 0.000</td> <td>   -0.033</td> <td>   -0.010</td>\n",
       "</tr>\n",
       "<tr>\n",
       "  <th>host_since</th>             <td>    0.0001</td> <td> 4.08e-06</td> <td>   28.150</td> <td> 0.000</td> <td>    0.000</td> <td>    0.000</td>\n",
       "</tr>\n",
       "<tr>\n",
       "  <th>instant_bookable</th>       <td>    0.0100</td> <td>    0.006</td> <td>    1.754</td> <td> 0.079</td> <td>   -0.001</td> <td>    0.021</td>\n",
       "</tr>\n",
       "<tr>\n",
       "  <th>number_of_reviews</th>      <td>   -0.0006</td> <td> 6.17e-05</td> <td>   -9.150</td> <td> 0.000</td> <td>   -0.001</td> <td>   -0.000</td>\n",
       "</tr>\n",
       "<tr>\n",
       "  <th>review_scores_rating</th>   <td>    0.0263</td> <td>    0.000</td> <td>  115.714</td> <td> 0.000</td> <td>    0.026</td> <td>    0.027</td>\n",
       "</tr>\n",
       "<tr>\n",
       "  <th>bedrooms</th>               <td>    0.1298</td> <td>    0.005</td> <td>   27.176</td> <td> 0.000</td> <td>    0.120</td> <td>    0.139</td>\n",
       "</tr>\n",
       "<tr>\n",
       "  <th>beds</th>                   <td>   -0.0464</td> <td>    0.004</td> <td>  -12.557</td> <td> 0.000</td> <td>   -0.054</td> <td>   -0.039</td>\n",
       "</tr>\n",
       "<tr>\n",
       "  <th>amenities</th>              <td>    0.0072</td> <td>    0.000</td> <td>   18.215</td> <td> 0.000</td> <td>    0.006</td> <td>    0.008</td>\n",
       "</tr>\n",
       "<tr>\n",
       "  <th>description</th>            <td> 1.156e-05</td> <td> 9.64e-06</td> <td>    1.199</td> <td> 0.231</td> <td>-7.34e-06</td> <td> 3.05e-05</td>\n",
       "</tr>\n",
       "</table>\n",
       "<table class=\"simpletable\">\n",
       "<tr>\n",
       "  <th>Omnibus:</th>       <td>3919.588</td> <th>  Durbin-Watson:     </th> <td>   2.005</td> \n",
       "</tr>\n",
       "<tr>\n",
       "  <th>Prob(Omnibus):</th>  <td> 0.000</td>  <th>  Jarque-Bera (JB):  </th> <td>11374.860</td>\n",
       "</tr>\n",
       "<tr>\n",
       "  <th>Skew:</th>           <td> 0.574</td>  <th>  Prob(JB):          </th> <td>    0.00</td> \n",
       "</tr>\n",
       "<tr>\n",
       "  <th>Kurtosis:</th>       <td> 5.455</td>  <th>  Cond. No.          </th> <td>6.22e+03</td> \n",
       "</tr>\n",
       "</table><br/><br/>Warnings:<br/>[1] Standard Errors assume that the covariance matrix of the errors is correctly specified.<br/>[2] The condition number is large, 6.22e+03. This might indicate that there are<br/>strong multicollinearity or other numerical problems."
      ],
      "text/plain": [
       "<class 'statsmodels.iolib.summary.Summary'>\n",
       "\"\"\"\n",
       "                                 OLS Regression Results                                \n",
       "=======================================================================================\n",
       "Dep. Variable:              log_price   R-squared (uncentered):                   0.990\n",
       "Model:                            OLS   Adj. R-squared (uncentered):              0.990\n",
       "Method:                 Least Squares   F-statistic:                          2.177e+05\n",
       "Date:                Fri, 19 Jun 2020   Prob (F-statistic):                        0.00\n",
       "Time:                        20:26:22   Log-Likelihood:                         -25225.\n",
       "No. Observations:               37153   AIC:                                  5.048e+04\n",
       "Df Residuals:                   37136   BIC:                                  5.063e+04\n",
       "Df Model:                          17                                                  \n",
       "Covariance Type:            nonrobust                                                  \n",
       "==========================================================================================\n",
       "                             coef    std err          t      P>|t|      [0.025      0.975]\n",
       "------------------------------------------------------------------------------------------\n",
       "property_type             -0.0034      0.000    -10.208      0.000      -0.004      -0.003\n",
       "room_type                 -0.4699      0.005    -89.125      0.000      -0.480      -0.460\n",
       "accommodates               0.0982      0.002     39.556      0.000       0.093       0.103\n",
       "bathrooms                  0.1636      0.006     28.459      0.000       0.152       0.175\n",
       "bed_type                   0.2979      0.005     60.750      0.000       0.288       0.308\n",
       "cancellation_policy        0.0424      0.003     12.766      0.000       0.036       0.049\n",
       "city                       0.0935      0.002     46.723      0.000       0.090       0.097\n",
       "cleaning_fee               0.0244      0.007      3.740      0.000       0.012       0.037\n",
       "host_identity_verified    -0.0217      0.006     -3.665      0.000      -0.033      -0.010\n",
       "host_since                 0.0001   4.08e-06     28.150      0.000       0.000       0.000\n",
       "instant_bookable           0.0100      0.006      1.754      0.079      -0.001       0.021\n",
       "number_of_reviews         -0.0006   6.17e-05     -9.150      0.000      -0.001      -0.000\n",
       "review_scores_rating       0.0263      0.000    115.714      0.000       0.026       0.027\n",
       "bedrooms                   0.1298      0.005     27.176      0.000       0.120       0.139\n",
       "beds                      -0.0464      0.004    -12.557      0.000      -0.054      -0.039\n",
       "amenities                  0.0072      0.000     18.215      0.000       0.006       0.008\n",
       "description             1.156e-05   9.64e-06      1.199      0.231   -7.34e-06    3.05e-05\n",
       "==============================================================================\n",
       "Omnibus:                     3919.588   Durbin-Watson:                   2.005\n",
       "Prob(Omnibus):                  0.000   Jarque-Bera (JB):            11374.860\n",
       "Skew:                           0.574   Prob(JB):                         0.00\n",
       "Kurtosis:                       5.455   Cond. No.                     6.22e+03\n",
       "==============================================================================\n",
       "\n",
       "Warnings:\n",
       "[1] Standard Errors assume that the covariance matrix of the errors is correctly specified.\n",
       "[2] The condition number is large, 6.22e+03. This might indicate that there are\n",
       "strong multicollinearity or other numerical problems.\n",
       "\"\"\""
      ]
     },
     "execution_count": 27,
     "metadata": {},
     "output_type": "execute_result"
    }
   ],
   "source": [
    "lin_reg = lm.LinearRegression()\n",
    "lin_reg.fit(x,y);\n",
    "\n",
    "# get printed results using statsmodels package\n",
    "results = sm.OLS(y,x).fit()\n",
    "results.summary()"
   ]
  },
  {
   "cell_type": "markdown",
   "metadata": {},
   "source": [
    "Let's test the accuracy of our model now. With an `r^2` of ~0.60 (rounded up), approximately 60% of the variance in `log_price` is explained by our model. "
   ]
  },
  {
   "cell_type": "code",
   "execution_count": 28,
   "metadata": {},
   "outputs": [
    {
     "data": {
      "text/plain": [
       "0.5694067929623499"
      ]
     },
     "execution_count": 28,
     "metadata": {},
     "output_type": "execute_result"
    }
   ],
   "source": [
    "y_pred = lin_reg.predict(x_test)\n",
    "metrics.r2_score(y_test, y_pred)"
   ]
  },
  {
   "cell_type": "code",
   "execution_count": 29,
   "metadata": {},
   "outputs": [
    {
     "data": {
      "image/png": "[encoded data removed]",
      "text/plain": [
       "<Figure size 432x288 with 1 Axes>"
      ]
     },
     "metadata": {
      "needs_background": "light"
     },
     "output_type": "display_data"
    }
   ],
   "source": [
    "plt.scatter(y_pred, y_test, color='blue');\n",
    "plt.title(\"y_pred vs y_test\");\n",
    "plt.xlabel(\"y_pred\");\n",
    "plt.ylabel(\"y_test\");"
   ]
  },
  {
   "cell_type": "markdown",
   "metadata": {},
   "source": [
    "Here we'll take a look at the residuals. There does not appear to be any apparent pattern, which provides evidence assumptions for linear regression are met (normality, linearity, constant variance)."
   ]
  },
  {
   "cell_type": "code",
   "execution_count": 30,
   "metadata": {},
   "outputs": [
    {
     "data": {
      "image/png": "[encoded data removed]",
      "text/plain": [
       "<Figure size 432x288 with 1 Axes>"
      ]
     },
     "metadata": {
      "needs_background": "light"
     },
     "output_type": "display_data"
    }
   ],
   "source": [
    "plt.scatter(y_pred, y_test - y_pred, color='blue');\n",
    "plt.title(\"y_pred vs residuals\");\n",
    "plt.xlabel(\"y_pred\");\n",
    "plt.ylabel(\"residuls\");"
   ]
  },
  {
   "cell_type": "code",
   "execution_count": 39,
   "metadata": {},
   "outputs": [
    {
     "name": "stdout",
     "output_type": "stream",
     "text": [
      "Num Features: 10\n",
      "Selected Features: [False  True  True  True False  True  True  True False False  True False\n",
      " False  True  True  True False]\n",
      "Feature Ranking: [5 1 1 1 2 1 1 1 4 7 1 6 3 1 1 1 8]\n",
      "Index(['room_type', 'accommodates', 'bathrooms', 'cancellation_policy', 'city',\n",
      "       'cleaning_fee', 'instant_bookable', 'bedrooms', 'beds', 'amenities'],\n",
      "      dtype='object')\n"
     ]
    }
   ],
   "source": [
    "from sklearn.feature_selection import RFE\n",
    "\n",
    "model = lm.LinearRegression()\n",
    "rfe = RFE(model, 10)\n",
    "fit = rfe.fit(x, y)\n",
    "print(\"Num Features: %d\" % fit.n_features_)\n",
    "print(\"Selected Features: %s\" % fit.support_)\n",
    "print(\"Feature Ranking: %s\" % fit.ranking_)\n",
    "\n",
    "cols = list(x.columns)\n",
    "temp = pd.Series(rfe.support_,index = cols)\n",
    "selected_features_rfe = temp[temp==True].index\n",
    "print(selected_features_rfe)"
   ]
  },
  {
   "cell_type": "markdown",
   "metadata": {},
   "source": [
    "## Conclusion\n",
    "Thus, we have developed a model that is able to explain approximately ~60% of the airbnb prices using just the predictor variablers we utilied in our model. And looking at the significance of the predictor variables we chose, it appears that all of them except perhaps `instant_bookable` and `description` were statistically significant in our linear model.\n",
    "\n",
    "Thus, we believe we can make claim that the prices of Airbnbs, while \"arbitrarily\" set by the hosts, can still be somewhat explained by some of the variables that were provided to us. Knowing this could be valuable in many situations. This model could be utilized by consumers to determine whether or not they are getting their money's worth for a certain Airbnb compared to others. Or it could be used by hosts to determine if their pricing is overpriced and underpriced for their listing too. Or maybe Airbnb itself could use such a model to moderate listing prices to prevent extremities.\n",
    "\n",
    "But we think it's important to admit that while ~60% of the prices being explained by our model isn't bad by any means, we think there's definitely room for improvement that we will discuss in Future Directions."
   ]
  },
  {
   "cell_type": "markdown",
   "metadata": {},
   "source": [
    "## Future Directions\n",
    "There is a ton of opportunity to perform further research for this dataset, hopefully with more details on the data in the future too, such as how it was sampeled. Otherwise, some things we could do for improvements in this specific analysis is to figure out different approaches to transforming some of the non-categorical and non-quantitative variables to derive impactful values from them. An example could be using natural language processing to determine numerical values for certain words and descriptions. \n",
    "\n",
    "Perhaps we could utilize the other geographic variables too that we have not mentioned. There is data such as zip codes, cities, neighborhoods, longitude, and lattitude that were not utilized, but could be used to construct an interesting geographic analysis, such as creating a Spatial Autoregressive Model."
   ]
  },
  {
   "cell_type": "markdown",
   "metadata": {},
   "source": [
    "## Geographic Plot"
   ]
  },
  {
   "cell_type": "markdown",
   "metadata": {},
   "source": [
    "We thought it might also be fun and interesting to quickly look at the geogrpahical representations fo the data. Looking at all the data on a US map won't be that practical though, given the scale and since all listings belong to just 5 cities (it would just be blobs on each of the 5 cities). So instead, we looked specifically at New York City, where most of the airbnb listings were located."
   ]
  },
  {
   "cell_type": "code",
   "execution_count": null,
   "metadata": {},
   "outputs": [],
   "source": [
    "# reload dataset\n",
    "airbnb = pd.read_csv(\"Airbnb.csv\");"
   ]
  },
  {
   "cell_type": "code",
   "execution_count": null,
   "metadata": {},
   "outputs": [],
   "source": [
    "# get bounds for geography\n",
    "nyc = airbnb.loc[airbnb['city'] == 'NYC']\n",
    "bounds = (nyc.longitude.min(), nyc.longitude.max(), nyc.latitude.min(), nyc.latitude.max())\n",
    "bounds"
   ]
  },
  {
   "cell_type": "markdown",
   "metadata": {},
   "source": [
    "In the graph below, we plotted the longitude and lattitudes of each listing over a map of New York City, and scaled the colors based on the prices of the airbnb listings."
   ]
  },
  {
   "cell_type": "code",
   "execution_count": null,
   "metadata": {},
   "outputs": [],
   "source": [
    "coord_map = plt.imread('map.png');\n",
    "\n",
    "fig, ax = plt.subplots(figsize = (8, 7))\n",
    "ax.scatter(nyc.longitude, nyc.latitude, c=nyc.log_price, cmap='Blues', zorder=1, alpha= 0.1, s=2.5)\n",
    "ax.set_title('Plotting Airbnb Spatial Data on Map');\n",
    "ax.set_xlim(bounds[0],bounds[1]);\n",
    "ax.set_ylim(bounds[2],bounds[3]);\n",
    "ax.imshow(coord_map, zorder=0, extent = bounds, aspect='auto');\n",
    "plt.tight_layout();\n",
    "plt.show()"
   ]
  }
 ],
 "metadata": {
  "kernelspec": {
   "display_name": "Python 3",
   "language": "python",
   "name": "python3"
  },
  "language_info": {
   "codemirror_mode": {
    "name": "ipython",
    "version": 3
   },
   "file_extension": ".py",
   "mimetype": "text/x-python",
   "name": "python",
   "nbconvert_exporter": "python",
   "pygments_lexer": "ipython3",
   "version": "3.7.6"
  }
 },
 "nbformat": 4,
 "nbformat_minor": 4
}
